{
 "cells": [
  {
   "cell_type": "code",
   "execution_count": 1,
   "id": "ffaff762",
   "metadata": {},
   "outputs": [],
   "source": [
    "import torch\n",
    "\n",
    "\n",
    "import coBert.bert"
   ]
  },
  {
   "cell_type": "code",
   "execution_count": 2,
   "id": "e747d9f3",
   "metadata": {},
   "outputs": [],
   "source": [
    "config = {\n",
    "    'max_len': 10,\n",
    "    'd_model': 10,\n",
    "    'n_heads': 10,\n",
    "    'd_ff': 16,\n",
    "    'n_layers': 4,\n",
    "    'dropout_rate': 0.2,\n",
    "    'is_cls_embedding': True,\n",
    "    'device': 'cuda',\n",
    "}"
   ]
  },
  {
   "cell_type": "code",
   "execution_count": 3,
   "id": "a02b9c3d",
   "metadata": {
    "scrolled": false
   },
   "outputs": [
    {
     "name": "stdout",
     "output_type": "stream",
     "text": [
      "tensor([[[ 9.2595e-01,  4.0932e-01,  6.6416e-01, -7.1470e-01, -5.1298e-01,\n",
      "           9.6207e-01,  1.3554e+00, -1.7307e+00,  5.5330e-02, -1.4139e+00],\n",
      "         [-9.5941e-01, -2.0521e-01, -2.0778e-01, -1.1616e+00,  5.7703e-01,\n",
      "           1.4616e+00, -6.5465e-01,  2.0478e+00, -1.7475e-01, -7.2310e-01],\n",
      "         [ 7.5215e-01,  2.9148e-01,  8.4545e-01, -1.5832e+00, -3.2560e-01,\n",
      "           1.8957e+00,  4.9890e-01, -3.4772e-01, -9.6913e-01, -1.0580e+00],\n",
      "         [ 4.3934e-01,  6.4924e-01, -1.8513e+00, -5.2614e-01,  1.4946e-01,\n",
      "           1.9297e+00, -1.2760e+00,  1.4594e-01,  5.0769e-01, -1.6794e-01],\n",
      "         [-1.2789e+00, -9.6398e-01,  4.5648e-01,  1.1628e+00,  3.9314e-01,\n",
      "          -2.7172e-01,  9.3645e-01, -9.5704e-01, -1.1018e+00,  1.6246e+00],\n",
      "         [ 1.4143e-01,  1.9226e-01, -1.5629e+00, -4.4098e-01,  2.2569e+00,\n",
      "           7.4637e-01, -9.3369e-01, -2.0668e-01,  5.0453e-01, -6.9722e-01],\n",
      "         [ 6.1597e-01,  9.2548e-01, -4.3475e-03, -1.8991e+00, -8.9448e-01,\n",
      "           1.8820e+00, -6.7969e-02, -1.4517e-01,  3.8741e-01, -7.9976e-01]],\n",
      "\n",
      "        [[ 1.2925e+00,  8.0533e-01, -3.6284e-01, -7.6754e-01, -5.8617e-02,\n",
      "           9.2811e-01,  8.3835e-01, -1.5331e+00,  5.2195e-01, -1.6641e+00],\n",
      "         [ 9.8102e-01,  2.3417e-01, -4.7758e-01, -3.7823e-01,  1.0278e-01,\n",
      "          -9.5117e-01,  1.2893e+00,  1.6776e+00, -9.6559e-01, -1.5123e+00],\n",
      "         [ 4.3436e-01, -8.6799e-01,  5.8302e-01, -1.9563e+00,  3.0805e-01,\n",
      "           1.9164e+00,  2.7687e-01,  3.1544e-01, -3.7391e-02, -9.7248e-01],\n",
      "         [ 6.8004e-02, -2.0106e+00, -9.3637e-01, -5.6201e-04,  3.0307e-01,\n",
      "           2.9048e-01,  1.4964e+00, -9.9083e-01,  1.1069e+00,  6.7352e-01],\n",
      "         [-1.3002e-01,  2.7688e-01,  1.7687e+00,  1.0418e+00, -6.8524e-01,\n",
      "           7.2963e-01,  2.7947e-01, -1.3364e+00, -1.6563e+00, -2.8851e-01],\n",
      "         [ 9.2030e-01,  5.3668e-01, -1.7372e+00, -6.7557e-02,  9.5543e-01,\n",
      "           1.1575e+00, -6.4782e-01,  8.5139e-01, -1.4880e+00, -4.8068e-01],\n",
      "         [ 9.6535e-01,  3.9274e-01,  1.4825e-01, -2.0108e+00, -1.0217e+00,\n",
      "           7.4714e-01,  1.2183e+00, -9.2722e-01,  8.6976e-01, -3.8184e-01]]],\n",
      "       device='cuda:0', grad_fn=<NativeLayerNormBackward0>)\n",
      "torch.Size([2, 7, 10])\n"
     ]
    }
   ],
   "source": [
    "tens = torch.randn(2, 5, 10)\n",
    "tens = torch.cat([tens, torch.zeros(2, 1, 10)], dim=1).to('cuda')\n",
    "\n",
    "att = torch.randint(0, 2, (2, 6)).to('cuda')\n",
    "\n",
    "bert = coBert.bert.BERT(config)\n",
    "bert.to('cuda')\n",
    "\n",
    "pre = bert(tens, att)\n",
    "\n",
    "print(pre)\n",
    "print(pre.shape)"
   ]
  },
  {
   "cell_type": "code",
   "execution_count": null,
   "id": "18f30690",
   "metadata": {},
   "outputs": [],
   "source": []
  }
 ],
 "metadata": {
  "kernelspec": {
   "display_name": "Python 3 (ipykernel)",
   "language": "python",
   "name": "python3"
  },
  "language_info": {
   "codemirror_mode": {
    "name": "ipython",
    "version": 3
   },
   "file_extension": ".py",
   "mimetype": "text/x-python",
   "name": "python",
   "nbconvert_exporter": "python",
   "pygments_lexer": "ipython3",
   "version": "3.9.13"
  }
 },
 "nbformat": 4,
 "nbformat_minor": 5
}
