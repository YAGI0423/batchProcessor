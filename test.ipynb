{
 "cells": [
  {
   "cell_type": "code",
   "execution_count": 1,
   "id": "ffaff762",
   "metadata": {},
   "outputs": [],
   "source": [
    "import torch\n",
    "\n",
    "\n",
    "import reBert.layers\n",
    "import reBert.layerUtil"
   ]
  },
  {
   "cell_type": "code",
   "execution_count": 2,
   "id": "e747d9f3",
   "metadata": {},
   "outputs": [],
   "source": [
    "config = {\n",
    "    'max_len': 10,\n",
    "    'd_model': 10,\n",
    "    'n_heads': 10,\n",
    "    'device': 'cpu',\n",
    "}\n",
    "\n",
    "embL = reBert.layers.EmbeddingLayer(config)\n",
    "\n",
    "multiHeadAtt = reBert.layers.MultiHeadAttention(config)"
   ]
  },
  {
   "cell_type": "code",
   "execution_count": 3,
   "id": "7d4373e4",
   "metadata": {},
   "outputs": [
    {
     "name": "stdout",
     "output_type": "stream",
     "text": [
      "tensor([[[-0.6532, -2.4351,  0.1867,  0.2643,  1.0322, -0.0057, -0.6713,\n",
      "           0.3436, -0.3654, -1.0840],\n",
      "         [ 0.6542, -0.3158,  0.2519,  0.4760, -0.6915, -0.7987, -2.3046,\n",
      "          -1.0690, -0.2602,  0.0329],\n",
      "         [ 0.0000,  0.0000,  0.0000,  0.0000,  0.0000,  0.0000,  0.0000,\n",
      "           0.0000,  0.0000,  0.0000]],\n",
      "\n",
      "        [[ 2.0443,  1.1085, -1.2256,  0.4137, -0.2924,  0.5072,  0.3789,\n",
      "           1.4590,  1.3254,  0.1112],\n",
      "         [-0.3366,  0.8236,  0.3653,  0.8393, -1.7538, -0.7458,  0.3562,\n",
      "           0.6700,  0.0143,  0.3703],\n",
      "         [ 0.0000,  0.0000,  0.0000,  0.0000,  0.0000,  0.0000,  0.0000,\n",
      "           0.0000,  0.0000,  0.0000]]])\n",
      "tensor([[0, 0, 0],\n",
      "        [0, 0, 1]])\n",
      "tensor([[[-1.6492, -1.0385,  1.5374,  0.5543,  1.3015,  0.3170, -1.1002,\n",
      "           0.2909, -0.5642,  0.3508],\n",
      "         [-0.0854,  0.6812,  0.7113,  0.9168, -0.0626, -0.3767, -2.3023,\n",
      "          -0.7876, -0.1423,  1.4475],\n",
      "         [-0.5434,  1.1567,  2.1503, -0.6077,  0.2132, -0.0357, -1.0033,\n",
      "           0.6091, -0.7837, -1.1555]],\n",
      "\n",
      "        [[-1.6126,  0.4339,  0.8492,  0.3728,  0.4581,  0.2449, -2.0939,\n",
      "           0.7730, -0.3960,  0.9707],\n",
      "         [-1.2256,  1.3056,  0.5441,  0.9735, -1.2550, -0.7497, -0.9330,\n",
      "           0.0876, -0.3091,  1.5616],\n",
      "         [ 0.1384,  0.1941,  0.6093, -0.1165,  0.5592, -1.7051,  0.0935,\n",
      "           2.0862, -0.5765, -1.2826]]], grad_fn=<NativeLayerNormBackward0>)\n",
      "tensor([[[False, False,  True],\n",
      "         [False, False,  True],\n",
      "         [False, False,  True]],\n",
      "\n",
      "        [[False, False,  True],\n",
      "         [False, False,  True],\n",
      "         [False, False,  True]]])\n",
      "tensor([[[-0.2664, -0.4344,  0.4395,  0.3320, -0.1904, -0.1112, -0.3424,\n",
      "           0.1297, -0.3060, -0.3330],\n",
      "         [-0.3495, -0.4766,  0.3990,  0.4043, -0.1806, -0.1760, -0.3225,\n",
      "           0.1688, -0.1733, -0.3743],\n",
      "         [-0.3148, -0.4084,  0.4349,  0.3487, -0.1739, -0.1066, -0.3210,\n",
      "           0.1381, -0.3338, -0.3149]],\n",
      "\n",
      "        [[-0.1988, -0.3069,  0.4329,  0.2712,  0.0579,  0.0165, -0.2459,\n",
      "          -0.1320, -0.4517, -0.2905],\n",
      "         [-0.1971, -0.2839,  0.4220,  0.2680,  0.0647,  0.0274, -0.2190,\n",
      "          -0.1368, -0.4199, -0.2861],\n",
      "         [-0.2082, -0.2333,  0.4117,  0.2821,  0.0474,  0.0274, -0.2445,\n",
      "          -0.1136, -0.4074, -0.2294]]], grad_fn=<ViewBackward0>)\n"
     ]
    }
   ],
   "source": [
    "input_ids = torch.randn(2, 2, 10)\n",
    "input_ids = torch.cat([input_ids, torch.zeros(2, 1, 10)], dim=1)\n",
    "seg = torch.randint(0, 2, (2, 3))\n",
    "\n",
    "print(input_ids)\n",
    "print(seg)\n",
    "\n",
    "emb = embL(input_ids, seg)\n",
    "atten_pad_mask = reBert.layerUtil.get_attention_pad_mask(input_ids)\n",
    "\n",
    "print(emb)\n",
    "print(atten_pad_mask)\n",
    "\n",
    "\n",
    "query_att = multiHeadAtt(emb, emb, emb, atten_pad_mask)\n",
    "print(query_att)"
   ]
  },
  {
   "cell_type": "code",
   "execution_count": null,
   "id": "a02b9c3d",
   "metadata": {},
   "outputs": [],
   "source": []
  }
 ],
 "metadata": {
  "kernelspec": {
   "display_name": "Python 3 (ipykernel)",
   "language": "python",
   "name": "python3"
  },
  "language_info": {
   "codemirror_mode": {
    "name": "ipython",
    "version": 3
   },
   "file_extension": ".py",
   "mimetype": "text/x-python",
   "name": "python",
   "nbconvert_exporter": "python",
   "pygments_lexer": "ipython3",
   "version": "3.9.13"
  }
 },
 "nbformat": 4,
 "nbformat_minor": 5
}
